{
 "cells": [
  {
   "cell_type": "code",
   "execution_count": 1,
   "id": "ebaf5d53",
   "metadata": {},
   "outputs": [
    {
     "data": {
      "text/plain": [
       "'1.0.2'"
      ]
     },
     "execution_count": 1,
     "metadata": {},
     "output_type": "execute_result"
    }
   ],
   "source": [
    "import sklearn\n",
    "import sys\n",
    "\n",
    "sklearn.__version__"
   ]
  },
  {
   "cell_type": "code",
   "execution_count": 2,
   "id": "a562d0a6",
   "metadata": {},
   "outputs": [],
   "source": [
    "import pandas as pd\n",
    "from matplotlib import pyplot as plt\n",
    "import numpy as np\n",
    "import re\n",
    "import math\n",
    "from sklearn.preprocessing import RobustScaler, StandardScaler"
   ]
  },
  {
   "cell_type": "code",
   "execution_count": 272,
   "id": "d095c81d",
   "metadata": {},
   "outputs": [],
   "source": [
    "\n",
    "CLIP_FEATURES = [\"feature01\", \"feature04\", \"feature05\", \"feature07\", \"feature19\", \"feature20\", \"feature21\", \"feature22\",\n",
    "                 \"feature23\", \"feature24\", \"feature25\", \"feature26\", \"feature27\", \"feature28\", \"feature29\", \"feature30\",\n",
    "                 \"feature31\"]\n",
    "LOG_SCALATION_FEATURES = [\"feature02\", \"feature03\", \"feature34\", \"feature36\"]\n",
    "\n",
    "def normalizeCurrentAge(data_frame):\n",
    "    current_dataframe = data_frame.copy()\n",
    "    current_dataframe[\"current_age\"] = (data_frame[\"current_age\"]-MINS[\"current_age\"])/(MAXS[\"current_age\"]-MINS[\"current_age\"])\n",
    "    return current_dataframe\n",
    "    \n",
    "def normalizeVoiceFeaturesMINMAX(data_frame):\n",
    "    pattern = re.compile(\"feature\")\n",
    "    current_dataframe = data_frame.copy()\n",
    "    for elem in current_dataframe.keys():\n",
    "        if (pattern.match(elem)) is not None and elem not in LOG_SCALATION_FEATURES:\n",
    "            current_dataframe[elem] = (current_dataframe[elem]-MINS[elem])/(MAXS[elem]-MINS[elem])\n",
    "    return current_dataframe\n",
    "\n",
    "def normalizeVoiceFeaturesLOG(data_frame): #OLD\n",
    "    current_dataframe = data_frame.copy()\n",
    "    for elem in current_dataframe.keys():\n",
    "        if elem in LOG_SCALATION_FEATURES:\n",
    "            for idx in range(len(elem)):\n",
    "                if current_dataframe[elem][idx] == 0.0:\n",
    "                    current_dataframe[elem][idx] = -10000\n",
    "                else:\n",
    "                    #print(current_dataframe[elem][idx])\n",
    "                    current_dataframe[elem][idx] = math.log(current_dataframe[elem][idx])\n",
    "    return current_dataframe\n",
    "\n",
    "def normalizeVoiceFeaturesROBUST(data_frame):\n",
    "    pattern = re.compile(\"feature\")\n",
    "    current_dataframe = data_frame.copy()\n",
    "    for elem in LOG_SCALATION_FEATURES:\n",
    "        transformer = StandardScaler()\n",
    "        current_dataframe[elem] = transformer.fit_transform(current_dataframe[[elem]])\n",
    "        current_dataframe[elem] = transformer.transform(current_dataframe[[elem]])\n",
    "    return current_dataframe\n",
    "    \n",
    "def normalizeSex(data_frame):\n",
    "    current_dataframe = data_frame.copy().reset_index()\n",
    "    n_sex = []\n",
    "    for index in range(len(current_dataframe)):\n",
    "        if current_dataframe[\"sex\"][index] == \"M\":\n",
    "            n_sex.append(0)\n",
    "        else:\n",
    "            n_sex.append(1)\n",
    "    current_dataframe[\"sex\"] = n_sex\n",
    "    del current_dataframe[\"index\"]\n",
    "    return current_dataframe\n",
    "    \n",
    "def getDataFrameFeatures(data_frame):\n",
    "    pattern = re.compile(\"feature\")\n",
    "    features_keys = [\"sex\", \"current_age\"]\n",
    "    for elem in data_frame.keys():\n",
    "        if (pattern.match(elem)) is not None:\n",
    "            features_keys.append(elem)\n",
    "    features_frame = data_frame[features_keys]\n",
    "    #features_frame = normalizeVoiceFeaturesMINMAX(features_frame)\n",
    "    ##features_frame = normalizeVoiceFeaturesROBUST(features_frame)\n",
    "    #features_frame = normalizeCurrentAge(features_frame)\n",
    "    features_frame = normalizeSex(features_frame)\n",
    "    return features_frame\n",
    "\n",
    "def getDataFrameLabels(data_frame):\n",
    "    C0 = [1,0,0,0]\n",
    "    C1 = [0,1,0,0]\n",
    "    C2 = [0,0,1,0]\n",
    "    C3 = [0,0,0,1]\n",
    "    data_labels = []\n",
    "    data_frame.head()\n",
    "    heads = [\"memory\", \"hallucinations\", \"mood\", \"motivation\", \"speech\", \"saliva\", \n",
    "             \"swallowing\", \"handwriting\",\"dressing\", \"cutting_food\", \"hygiene\", \"turning_in_bed\", \"falling\", \"freezing\", \"walking\", \"tremors\", \"numbness\" ]\n",
    "    for index, row in data_frame.iterrows():\n",
    "        addition = 0\n",
    "        for elem in heads:\n",
    "            addition = addition + row[elem]\n",
    "        if (addition == 0):\n",
    "            #data_labels.append(C0)\n",
    "            data_labels.append(C1)\n",
    "        elif (addition > 0 and addition <= 10):\n",
    "            data_labels.append(C1)\n",
    "        elif (addition > 10 and addition <= 17):\n",
    "            data_labels.append(C2)\n",
    "        else:\n",
    "            data_labels.append(C3)\n",
    "    return data_labels\n",
    "\n",
    "\n",
    "def checkAgeIsGraterThanSysptoms(data_frame):\n",
    "    valid_data_frame = data_frame.copy().reset_index()\n",
    "    indexes = []\n",
    "    for index in range(len(valid_data_frame)):\n",
    "        if valid_data_frame[\"current_age\"][index] < valid_data_frame[\"years_since_first_symptom\"][index] or valid_data_frame[\"current_age\"][index] < 20:\n",
    "            indexes.append(index)\n",
    "    valid_data_frame.drop(indexes)\n",
    "    del valid_data_frame[\"index\"]\n",
    "    return valid_data_frame\n",
    "    \n",
    "def eliminateBadVoiceCodeElements(data_frame):\n",
    "    valid_voice_code_elemnts = data_frame.copy()\n",
    "    valid_voice_code_elemnts = valid_voice_code_elemnts.drop(valid_voice_code_elemnts[valid_voice_code_elemnts[\"voice_code\"] == \"bad\" ].index)\n",
    "    return valid_voice_code_elemnts\n",
    "\n",
    "def eliminateEmptySexElements(data_frame):\n",
    "    valid_voice_code_elemnts = data_frame.copy()\n",
    "    valid_voice_code_elemnts = valid_voice_code_elemnts.drop(valid_voice_code_elemnts[valid_voice_code_elemnts[\"voice_code\"] == \"\" ].index)\n",
    "    return valid_voice_code_elemnts\n",
    "\n",
    "def cleanDataFrame(data_frame):\n",
    "    clean_data_frame = data_frame.copy()\n",
    "    #clean_data_frame = clean_data_frame.dropna()\n",
    "    clean_data_frame = eliminateBadVoiceCodeElements(clean_data_frame)\n",
    "    clean_data_frame = eliminateEmptySexElements(clean_data_frame)\n",
    "    clean_data_frame = checkAgeIsGraterThanSysptoms(clean_data_frame)\n",
    "    return clean_data_frame\n",
    "\n",
    "\n",
    "#esta función proviene del libro Hands on Machine Learning con nombre split_train_test\n",
    "def split_dataset(data, test_ratio):\n",
    "    shuffled_indices = np.random.permutation(len(data))\n",
    "    test_set_size = int(len(data) * test_ratio)\n",
    "    test_indices = shuffled_indices[:test_set_size]\n",
    "    train_indices = shuffled_indices[test_set_size:]\n",
    "    return data.iloc[train_indices], data.iloc[test_indices]\n",
    "\n",
    "def getMaxsAndMins(data_frame):\n",
    "    NUMERICAL_TYPES = [\"int64\", \"float64\"]\n",
    "    maxs = {}\n",
    "    mins = {}\n",
    "    current_dataframe = data_frame.copy().reset_index()\n",
    "    for elem in current_dataframe.keys():\n",
    "        if current_dataframe.dtypes[elem] in NUMERICAL_TYPES:\n",
    "            maxs[elem] = current_dataframe[elem].max()\n",
    "            mins[elem] = current_dataframe[elem].min()\n",
    "    return maxs, mins\n"
   ]
  },
  {
   "cell_type": "code",
   "execution_count": 273,
   "id": "a2d3127e",
   "metadata": {},
   "outputs": [],
   "source": [
    "def load_data(file_name):\n",
    "    return pd.read_csv( \"datos/\"+ file_name + \".csv\")\n",
    "\n",
    "ALL_DATA = pd.concat([load_data(\"plmpva_train\"),load_data(\"plmpva_test-NoPDRS\")])\n",
    "MAXS, MINS = getMaxsAndMins(cleanDataFrame(ALL_DATA))\n",
    "TRAIN_DATA, VALIDATION_DATA = split_dataset(cleanDataFrame(ALL_DATA), 0.2)\n",
    "TRAIN_DATA , TEST_DATA = split_dataset(TRAIN_DATA, 0.2)\n",
    "TRAIN_FEATURES = getDataFrameFeatures(TRAIN_DATA)\n",
    "TRAIN_LABELS = getDataFrameLabels(TRAIN_DATA)\n",
    "TEST_FEATURES = getDataFrameFeatures(cleanDataFrame(TEST_DATA))\n",
    "TEST_LABELS = getDataFrameLabels(cleanDataFrame(TEST_DATA))\n",
    "VALIDATION_FEATURES = getDataFrameFeatures(cleanDataFrame(VALIDATION_DATA))\n",
    "VALIDATION_LABELS = getDataFrameLabels(cleanDataFrame(VALIDATION_DATA))"
   ]
  },
  {
   "cell_type": "code",
   "execution_count": 258,
   "id": "845a2370",
   "metadata": {},
   "outputs": [
    {
     "data": {
      "text/plain": [
       "460"
      ]
     },
     "execution_count": 258,
     "metadata": {},
     "output_type": "execute_result"
    }
   ],
   "source": [
    "len(TRAIN_DATA)"
   ]
  },
  {
   "cell_type": "code",
   "execution_count": 31,
   "id": "059c89fb",
   "metadata": {},
   "outputs": [
    {
     "data": {
      "image/png": "[encoded data removed]",
      "text/plain": [
       "<Figure size 432x288 with 1 Axes>"
      ]
     },
     "metadata": {
      "needs_background": "light"
     },
     "output_type": "display_data"
    }
   ],
   "source": [
    "from matplotlib import pyplot as plt\n",
    "plt.hist(TRAIN_LABELS, density=False, bins=30)  # density=False would make counts\n",
    "plt.ylabel('Count')\n",
    "plt.xlabel('Data');"
   ]
  },
  {
   "cell_type": "code",
   "execution_count": 60,
   "id": "b3b5a4e8",
   "metadata": {},
   "outputs": [
    {
     "data": {
      "image/png": "[encoded data removed]",
      "text/plain": [
       "<Figure size 432x288 with 1 Axes>"
      ]
     },
     "metadata": {
      "needs_background": "light"
     },
     "output_type": "display_data"
    }
   ],
   "source": [
    "from matplotlib import pyplot as plt\n",
    "plt.hist(TRAIN_LABELS, density=False, bins=30)  # density=False would make counts\n",
    "plt.ylabel('Count')\n",
    "plt.xlabel('Data');"
   ]
  },
  {
   "cell_type": "code",
   "execution_count": 158,
   "id": "991976d2",
   "metadata": {},
   "outputs": [],
   "source": [
    "import keras\n",
    "import tensorflow as tf\n",
    "from keras.models import Sequential\n",
    "from keras.layers import Dense, Conv1D, MaxPool1D , Flatten, Dropout\n",
    "from tensorflow.keras.optimizers import Adam\n",
    "from tensorflow.keras.metrics import Accuracy, CategoricalAccuracy, PrecisionAtRecall, TruePositives, TrueNegatives, FalsePositives, FalseNegatives"
   ]
  },
  {
   "cell_type": "code",
   "execution_count": 265,
   "id": "ff1fd0ea",
   "metadata": {},
   "outputs": [],
   "source": [
    "TRAIN_ARRAY = np.expand_dims(TRAIN_FEATURES.to_numpy(), axis=2)\n",
    "TRAIN_LABELS_ARRAY = np.expand_dims(np.array(TRAIN_LABELS), axis=2) #tf.convert_to_tensor(TRAIN_LABELS)\n",
    "VALIDATION_ARRAY = np.expand_dims(VALIDATION_FEATURES.to_numpy(), axis=2) #tf.convert_to_tensor(VALIDATION_FEATURES)\n",
    "VALIDATION_LABELS_ARRAY = np.expand_dims(np.array(VALIDATION_LABELS), axis=2) #tf.convert_to_tensor(VALIDATION_LABELS)\n",
    "TEST_ARRAY = np.expand_dims(TEST_FEATURES.to_numpy(), axis=2) #tf.convert_to_tensor(TEST_FEATURES)\n",
    "TEST_LABELS_ARRAY = np.expand_dims(np.array(TEST_LABELS), axis=2) #tf.convert_to_tensor(TEST_LABELS)"
   ]
  },
  {
   "cell_type": "code",
   "execution_count": 163,
   "id": "8c929bbe",
   "metadata": {},
   "outputs": [],
   "source": [
    "model = Sequential()\n",
    "model.add(Conv1D(input_shape=TRAIN_ARRAY.shape[1:],filters=64,kernel_size=(3),padding=\"same\", activation=\"relu\"))\n",
    "model.add(Conv1D(filters=64,kernel_size=(3),padding=\"same\", activation=\"relu\"))\n",
    "model.add(MaxPool1D(pool_size=(2),strides=(2)))\n",
    "model.add(Conv1D(filters=128, kernel_size=(3), padding=\"same\", activation=\"relu\"))\n",
    "model.add(Conv1D(filters=128, kernel_size=(3), padding=\"same\", activation=\"relu\"))\n",
    "model.add(MaxPool1D(pool_size=(2),strides=(2)))\n",
    "model.add(Conv1D(filters=256, kernel_size=(3), padding=\"same\", activation=\"relu\"))\n",
    "model.add(Conv1D(filters=256, kernel_size=(3), padding=\"same\", activation=\"relu\"))\n",
    "model.add(Conv1D(filters=256, kernel_size=(3), padding=\"same\", activation=\"relu\"))\n",
    "model.add(MaxPool1D(pool_size=(2),strides=(2)))\n",
    "model.add(Conv1D(filters=512, kernel_size=(3), padding=\"same\", activation=\"relu\"))\n",
    "model.add(Conv1D(filters=512, kernel_size=(3), padding=\"same\", activation=\"relu\"))\n",
    "model.add(Conv1D(filters=512, kernel_size=(3), padding=\"same\", activation=\"relu\"))\n",
    "model.add(MaxPool1D(pool_size=(2),strides=(2)))\n",
    "model.add(Conv1D(filters=512, kernel_size=(3), padding=\"same\", activation=\"relu\"))\n",
    "model.add(Conv1D(filters=512, kernel_size=(3), padding=\"same\", activation=\"relu\"))\n",
    "model.add(Conv1D(filters=512, kernel_size=(3), padding=\"same\", activation=\"relu\"))\n",
    "model.add(MaxPool1D(pool_size=(2),strides=(2)))\n",
    "model.add(Flatten())\n",
    "model.add(Dense(units=4096,activation=\"relu\"))\n",
    "model.add(Dense(units=4096,activation=\"relu\"))\n",
    "model.add(Dense(units=4, activation=\"softmax\"))\n",
    "model.compile(optimizer=Adam(learning_rate=1e-3), loss=keras.losses.categorical_crossentropy, metrics=[CategoricalAccuracy(), Accuracy()])\n",
    "#res = model.fit(x=TRAIN_ARRAY, y=TRAIN_LABELS_ARRAY, epochs=10, verbose=2, validation_data = (VALIDATION_ARRAY, VALIDATION_LABELS_ARRAY))"
   ]
  },
  {
   "cell_type": "code",
   "execution_count": 274,
   "id": "69afabfa",
   "metadata": {},
   "outputs": [
    {
     "name": "stdout",
     "output_type": "stream",
     "text": [
      "Epoch 1/200\n",
      "15/15 - 1s - loss: 5.2085 - categorical_accuracy: 0.5739 - accuracy: 0.0337 - val_loss: 1.5926 - val_categorical_accuracy: 0.6783 - val_accuracy: 0.0070 - 1s/epoch - 84ms/step\n",
      "Epoch 2/200\n",
      "15/15 - 0s - loss: 1.0577 - categorical_accuracy: 0.6565 - accuracy: 5.4348e-04 - val_loss: 0.9395 - val_categorical_accuracy: 0.6783 - val_accuracy: 0.0000e+00 - 292ms/epoch - 19ms/step\n",
      "Epoch 3/200\n",
      "15/15 - 0s - loss: 0.9322 - categorical_accuracy: 0.6609 - accuracy: 5.4348e-04 - val_loss: 0.9139 - val_categorical_accuracy: 0.6783 - val_accuracy: 0.0000e+00 - 285ms/epoch - 19ms/step\n",
      "Epoch 4/200\n",
      "15/15 - 0s - loss: 0.8948 - categorical_accuracy: 0.6696 - accuracy: 0.0000e+00 - val_loss: 0.9134 - val_categorical_accuracy: 0.6783 - val_accuracy: 0.0000e+00 - 276ms/epoch - 18ms/step\n",
      "Epoch 5/200\n",
      "15/15 - 0s - loss: 0.8978 - categorical_accuracy: 0.6717 - accuracy: 0.0000e+00 - val_loss: 0.8864 - val_categorical_accuracy: 0.6783 - val_accuracy: 0.0000e+00 - 293ms/epoch - 20ms/step\n",
      "Epoch 6/200\n",
      "15/15 - 0s - loss: 0.9250 - categorical_accuracy: 0.6717 - accuracy: 0.0000e+00 - val_loss: 0.9176 - val_categorical_accuracy: 0.6783 - val_accuracy: 0.0000e+00 - 262ms/epoch - 17ms/step\n",
      "Epoch 7/200\n",
      "15/15 - 0s - loss: 0.8909 - categorical_accuracy: 0.6717 - accuracy: 0.0000e+00 - val_loss: 0.9861 - val_categorical_accuracy: 0.6364 - val_accuracy: 0.0000e+00 - 271ms/epoch - 18ms/step\n",
      "Epoch 8/200\n",
      "15/15 - 0s - loss: 0.8906 - categorical_accuracy: 0.6674 - accuracy: 0.0000e+00 - val_loss: 0.8917 - val_categorical_accuracy: 0.6783 - val_accuracy: 0.0000e+00 - 275ms/epoch - 18ms/step\n",
      "Epoch 9/200\n",
      "15/15 - 0s - loss: 0.8707 - categorical_accuracy: 0.6717 - accuracy: 0.0000e+00 - val_loss: 0.9071 - val_categorical_accuracy: 0.6783 - val_accuracy: 0.0000e+00 - 281ms/epoch - 19ms/step\n",
      "Epoch 10/200\n",
      "15/15 - 0s - loss: 0.8716 - categorical_accuracy: 0.6717 - accuracy: 0.0000e+00 - val_loss: 0.8682 - val_categorical_accuracy: 0.6783 - val_accuracy: 0.0000e+00 - 260ms/epoch - 17ms/step\n",
      "Epoch 11/200\n",
      "15/15 - 0s - loss: 0.8590 - categorical_accuracy: 0.6717 - accuracy: 0.0000e+00 - val_loss: 0.8733 - val_categorical_accuracy: 0.6783 - val_accuracy: 0.0000e+00 - 277ms/epoch - 18ms/step\n",
      "Epoch 12/200\n",
      "15/15 - 0s - loss: 0.8586 - categorical_accuracy: 0.6717 - accuracy: 0.0000e+00 - val_loss: 0.8856 - val_categorical_accuracy: 0.6783 - val_accuracy: 0.0000e+00 - 285ms/epoch - 19ms/step\n",
      "Epoch 13/200\n",
      "15/15 - 0s - loss: 0.8598 - categorical_accuracy: 0.6717 - accuracy: 0.0000e+00 - val_loss: 0.8736 - val_categorical_accuracy: 0.6783 - val_accuracy: 0.0000e+00 - 279ms/epoch - 19ms/step\n",
      "Epoch 14/200\n",
      "15/15 - 0s - loss: 0.8724 - categorical_accuracy: 0.6717 - accuracy: 0.0000e+00 - val_loss: 0.8985 - val_categorical_accuracy: 0.6783 - val_accuracy: 0.0000e+00 - 266ms/epoch - 18ms/step\n",
      "Epoch 15/200\n",
      "15/15 - 0s - loss: 0.8715 - categorical_accuracy: 0.6717 - accuracy: 0.0000e+00 - val_loss: 0.8767 - val_categorical_accuracy: 0.6783 - val_accuracy: 0.0000e+00 - 277ms/epoch - 18ms/step\n",
      "Epoch 16/200\n",
      "15/15 - 0s - loss: 0.8807 - categorical_accuracy: 0.6717 - accuracy: 0.0000e+00 - val_loss: 0.8680 - val_categorical_accuracy: 0.6783 - val_accuracy: 0.0000e+00 - 292ms/epoch - 19ms/step\n",
      "Epoch 17/200\n",
      "15/15 - 0s - loss: 0.8592 - categorical_accuracy: 0.6717 - accuracy: 0.0000e+00 - val_loss: 0.8824 - val_categorical_accuracy: 0.6783 - val_accuracy: 0.0000e+00 - 263ms/epoch - 18ms/step\n",
      "Epoch 18/200\n",
      "15/15 - 0s - loss: 0.8645 - categorical_accuracy: 0.6717 - accuracy: 0.0000e+00 - val_loss: 0.8755 - val_categorical_accuracy: 0.6783 - val_accuracy: 0.0000e+00 - 273ms/epoch - 18ms/step\n",
      "Epoch 19/200\n",
      "15/15 - 0s - loss: 0.8747 - categorical_accuracy: 0.6717 - accuracy: 0.0000e+00 - val_loss: 0.8731 - val_categorical_accuracy: 0.6783 - val_accuracy: 0.0000e+00 - 277ms/epoch - 18ms/step\n",
      "Epoch 20/200\n",
      "15/15 - 0s - loss: 0.8748 - categorical_accuracy: 0.6717 - accuracy: 0.0000e+00 - val_loss: 0.8714 - val_categorical_accuracy: 0.6783 - val_accuracy: 0.0000e+00 - 285ms/epoch - 19ms/step\n",
      "Epoch 21/200\n",
      "15/15 - 0s - loss: 0.8526 - categorical_accuracy: 0.6717 - accuracy: 0.0000e+00 - val_loss: 0.8803 - val_categorical_accuracy: 0.6783 - val_accuracy: 0.0000e+00 - 262ms/epoch - 17ms/step\n",
      "Epoch 22/200\n",
      "15/15 - 0s - loss: 0.8589 - categorical_accuracy: 0.6717 - accuracy: 0.0000e+00 - val_loss: 0.8773 - val_categorical_accuracy: 0.6783 - val_accuracy: 0.0000e+00 - 278ms/epoch - 19ms/step\n",
      "Epoch 23/200\n",
      "15/15 - 0s - loss: 0.8546 - categorical_accuracy: 0.6717 - accuracy: 0.0000e+00 - val_loss: 0.8729 - val_categorical_accuracy: 0.6783 - val_accuracy: 0.0000e+00 - 286ms/epoch - 19ms/step\n",
      "Epoch 24/200\n",
      "15/15 - 0s - loss: 0.8623 - categorical_accuracy: 0.6717 - accuracy: 0.0000e+00 - val_loss: 0.8681 - val_categorical_accuracy: 0.6783 - val_accuracy: 0.0000e+00 - 263ms/epoch - 18ms/step\n",
      "Epoch 25/200\n",
      "15/15 - 0s - loss: 0.8587 - categorical_accuracy: 0.6717 - accuracy: 0.0000e+00 - val_loss: 0.8660 - val_categorical_accuracy: 0.6783 - val_accuracy: 0.0000e+00 - 270ms/epoch - 18ms/step\n",
      "Epoch 26/200\n",
      "15/15 - 0s - loss: 0.8593 - categorical_accuracy: 0.6717 - accuracy: 0.0000e+00 - val_loss: 0.8823 - val_categorical_accuracy: 0.6783 - val_accuracy: 0.0000e+00 - 278ms/epoch - 19ms/step\n",
      "Epoch 27/200\n",
      "15/15 - 0s - loss: 0.8671 - categorical_accuracy: 0.6717 - accuracy: 0.0000e+00 - val_loss: 0.8757 - val_categorical_accuracy: 0.6783 - val_accuracy: 0.0000e+00 - 291ms/epoch - 19ms/step\n",
      "Epoch 28/200\n",
      "15/15 - 0s - loss: 0.8657 - categorical_accuracy: 0.6717 - accuracy: 0.0000e+00 - val_loss: 0.8629 - val_categorical_accuracy: 0.6783 - val_accuracy: 0.0000e+00 - 259ms/epoch - 17ms/step\n",
      "Epoch 29/200\n",
      "15/15 - 0s - loss: 0.8563 - categorical_accuracy: 0.6717 - accuracy: 0.0000e+00 - val_loss: 0.8711 - val_categorical_accuracy: 0.6783 - val_accuracy: 0.0000e+00 - 278ms/epoch - 19ms/step\n",
      "Epoch 30/200\n",
      "15/15 - 0s - loss: 0.8558 - categorical_accuracy: 0.6717 - accuracy: 0.0000e+00 - val_loss: 0.8772 - val_categorical_accuracy: 0.6783 - val_accuracy: 0.0000e+00 - 289ms/epoch - 19ms/step\n",
      "Epoch 31/200\n",
      "15/15 - 0s - loss: 0.8571 - categorical_accuracy: 0.6717 - accuracy: 0.0000e+00 - val_loss: 0.8691 - val_categorical_accuracy: 0.6783 - val_accuracy: 0.0000e+00 - 272ms/epoch - 18ms/step\n",
      "Epoch 32/200\n",
      "15/15 - 0s - loss: 0.8647 - categorical_accuracy: 0.6674 - accuracy: 5.4348e-04 - val_loss: 0.9032 - val_categorical_accuracy: 0.6783 - val_accuracy: 0.0017 - 267ms/epoch - 18ms/step\n",
      "Epoch 33/200\n",
      "15/15 - 0s - loss: 0.8626 - categorical_accuracy: 0.6717 - accuracy: 0.0000e+00 - val_loss: 0.8674 - val_categorical_accuracy: 0.6783 - val_accuracy: 0.0000e+00 - 278ms/epoch - 19ms/step\n",
      "Epoch 34/200\n",
      "15/15 - 0s - loss: 0.8541 - categorical_accuracy: 0.6717 - accuracy: 0.0000e+00 - val_loss: 0.8770 - val_categorical_accuracy: 0.6783 - val_accuracy: 0.0000e+00 - 329ms/epoch - 22ms/step\n",
      "Epoch 35/200\n",
      "15/15 - 0s - loss: 0.8582 - categorical_accuracy: 0.6717 - accuracy: 0.0000e+00 - val_loss: 0.8890 - val_categorical_accuracy: 0.6783 - val_accuracy: 0.0000e+00 - 280ms/epoch - 19ms/step\n",
      "Epoch 36/200\n",
      "15/15 - 0s - loss: 0.8501 - categorical_accuracy: 0.6717 - accuracy: 0.0000e+00 - val_loss: 0.8656 - val_categorical_accuracy: 0.6783 - val_accuracy: 0.0000e+00 - 278ms/epoch - 19ms/step\n",
      "Epoch 37/200\n",
      "15/15 - 0s - loss: 0.8570 - categorical_accuracy: 0.6717 - accuracy: 0.0000e+00 - val_loss: 0.8746 - val_categorical_accuracy: 0.6783 - val_accuracy: 0.0000e+00 - 297ms/epoch - 20ms/step\n",
      "Epoch 38/200\n",
      "15/15 - 0s - loss: 0.8589 - categorical_accuracy: 0.6717 - accuracy: 0.0000e+00 - val_loss: 0.8690 - val_categorical_accuracy: 0.6783 - val_accuracy: 0.0000e+00 - 273ms/epoch - 18ms/step\n",
      "Epoch 39/200\n",
      "15/15 - 0s - loss: 0.8532 - categorical_accuracy: 0.6717 - accuracy: 0.0000e+00 - val_loss: 0.8582 - val_categorical_accuracy: 0.6783 - val_accuracy: 0.0000e+00 - 269ms/epoch - 18ms/step\n",
      "Epoch 40/200\n",
      "15/15 - 0s - loss: 0.8564 - categorical_accuracy: 0.6717 - accuracy: 0.0000e+00 - val_loss: 0.8652 - val_categorical_accuracy: 0.6783 - val_accuracy: 0.0000e+00 - 278ms/epoch - 19ms/step\n",
      "Epoch 41/200\n",
      "15/15 - 0s - loss: 0.8528 - categorical_accuracy: 0.6717 - accuracy: 0.0000e+00 - val_loss: 0.8748 - val_categorical_accuracy: 0.6783 - val_accuracy: 0.0000e+00 - 287ms/epoch - 19ms/step\n",
      "Epoch 42/200\n",
      "15/15 - 0s - loss: 0.8453 - categorical_accuracy: 0.6717 - accuracy: 0.0000e+00 - val_loss: 0.8616 - val_categorical_accuracy: 0.6783 - val_accuracy: 0.0000e+00 - 258ms/epoch - 17ms/step\n"
     ]
    },
    {
     "name": "stdout",
     "output_type": "stream",
     "text": [
      "Epoch 43/200\n",
      "15/15 - 0s - loss: 0.8443 - categorical_accuracy: 0.6717 - accuracy: 0.0000e+00 - val_loss: 0.8658 - val_categorical_accuracy: 0.6783 - val_accuracy: 0.0000e+00 - 270ms/epoch - 18ms/step\n",
      "Epoch 44/200\n",
      "15/15 - 0s - loss: 0.8439 - categorical_accuracy: 0.6717 - accuracy: 0.0000e+00 - val_loss: 0.8689 - val_categorical_accuracy: 0.6783 - val_accuracy: 0.0000e+00 - 275ms/epoch - 18ms/step\n",
      "Epoch 45/200\n",
      "15/15 - 0s - loss: 0.8491 - categorical_accuracy: 0.6717 - accuracy: 0.0000e+00 - val_loss: 0.8971 - val_categorical_accuracy: 0.6783 - val_accuracy: 0.0000e+00 - 287ms/epoch - 19ms/step\n",
      "Epoch 46/200\n",
      "15/15 - 0s - loss: 0.8745 - categorical_accuracy: 0.6717 - accuracy: 0.0022 - val_loss: 0.8705 - val_categorical_accuracy: 0.6783 - val_accuracy: 0.0000e+00 - 261ms/epoch - 17ms/step\n",
      "Epoch 47/200\n",
      "15/15 - 0s - loss: 0.8609 - categorical_accuracy: 0.6717 - accuracy: 0.0000e+00 - val_loss: 0.8715 - val_categorical_accuracy: 0.6783 - val_accuracy: 0.0000e+00 - 283ms/epoch - 19ms/step\n",
      "Epoch 48/200\n",
      "15/15 - 0s - loss: 0.8641 - categorical_accuracy: 0.6717 - accuracy: 0.0000e+00 - val_loss: 0.8731 - val_categorical_accuracy: 0.6783 - val_accuracy: 0.0000e+00 - 306ms/epoch - 20ms/step\n",
      "Epoch 49/200\n",
      "15/15 - 0s - loss: 0.8520 - categorical_accuracy: 0.6717 - accuracy: 0.0000e+00 - val_loss: 0.8661 - val_categorical_accuracy: 0.6783 - val_accuracy: 0.0000e+00 - 269ms/epoch - 18ms/step\n",
      "Epoch 50/200\n",
      "15/15 - 0s - loss: 0.8607 - categorical_accuracy: 0.6717 - accuracy: 0.0000e+00 - val_loss: 0.8724 - val_categorical_accuracy: 0.6783 - val_accuracy: 0.0000e+00 - 280ms/epoch - 19ms/step\n",
      "Epoch 51/200\n",
      "15/15 - 0s - loss: 0.8503 - categorical_accuracy: 0.6717 - accuracy: 0.0000e+00 - val_loss: 0.8683 - val_categorical_accuracy: 0.6783 - val_accuracy: 0.0000e+00 - 296ms/epoch - 20ms/step\n",
      "Epoch 52/200\n",
      "15/15 - 0s - loss: 0.8442 - categorical_accuracy: 0.6717 - accuracy: 0.0000e+00 - val_loss: 0.8664 - val_categorical_accuracy: 0.6783 - val_accuracy: 0.0000e+00 - 294ms/epoch - 20ms/step\n",
      "Epoch 53/200\n",
      "15/15 - 0s - loss: 0.8539 - categorical_accuracy: 0.6717 - accuracy: 0.0000e+00 - val_loss: 0.8670 - val_categorical_accuracy: 0.6783 - val_accuracy: 0.0000e+00 - 279ms/epoch - 19ms/step\n",
      "Epoch 54/200\n",
      "15/15 - 0s - loss: 0.8481 - categorical_accuracy: 0.6717 - accuracy: 0.0000e+00 - val_loss: 0.8640 - val_categorical_accuracy: 0.6783 - val_accuracy: 0.0000e+00 - 290ms/epoch - 19ms/step\n",
      "Epoch 55/200\n",
      "15/15 - 0s - loss: 0.8439 - categorical_accuracy: 0.6717 - accuracy: 0.0000e+00 - val_loss: 0.8636 - val_categorical_accuracy: 0.6783 - val_accuracy: 0.0000e+00 - 301ms/epoch - 20ms/step\n",
      "Epoch 56/200\n",
      "15/15 - 0s - loss: 0.8457 - categorical_accuracy: 0.6717 - accuracy: 0.0000e+00 - val_loss: 0.8643 - val_categorical_accuracy: 0.6783 - val_accuracy: 0.0000e+00 - 303ms/epoch - 20ms/step\n",
      "Epoch 57/200\n",
      "15/15 - 0s - loss: 0.8492 - categorical_accuracy: 0.6717 - accuracy: 0.0000e+00 - val_loss: 0.8718 - val_categorical_accuracy: 0.6783 - val_accuracy: 0.0000e+00 - 280ms/epoch - 19ms/step\n",
      "Epoch 58/200\n",
      "15/15 - 0s - loss: 0.8567 - categorical_accuracy: 0.6717 - accuracy: 0.0000e+00 - val_loss: 0.8648 - val_categorical_accuracy: 0.6783 - val_accuracy: 0.0000e+00 - 314ms/epoch - 21ms/step\n",
      "Epoch 59/200\n",
      "15/15 - 0s - loss: 0.8503 - categorical_accuracy: 0.6717 - accuracy: 0.0000e+00 - val_loss: 0.8612 - val_categorical_accuracy: 0.6783 - val_accuracy: 0.0000e+00 - 284ms/epoch - 19ms/step\n",
      "Epoch 60/200\n",
      "15/15 - 0s - loss: 0.8462 - categorical_accuracy: 0.6717 - accuracy: 0.0000e+00 - val_loss: 0.8694 - val_categorical_accuracy: 0.6783 - val_accuracy: 0.0000e+00 - 285ms/epoch - 19ms/step\n",
      "Epoch 61/200\n",
      "15/15 - 0s - loss: 0.8419 - categorical_accuracy: 0.6717 - accuracy: 0.0000e+00 - val_loss: 0.8697 - val_categorical_accuracy: 0.6783 - val_accuracy: 0.0000e+00 - 285ms/epoch - 19ms/step\n",
      "Epoch 62/200\n",
      "15/15 - 0s - loss: 0.8475 - categorical_accuracy: 0.6717 - accuracy: 0.0000e+00 - val_loss: 0.8640 - val_categorical_accuracy: 0.6783 - val_accuracy: 0.0000e+00 - 301ms/epoch - 20ms/step\n",
      "Epoch 63/200\n",
      "15/15 - 0s - loss: 0.8448 - categorical_accuracy: 0.6717 - accuracy: 0.0000e+00 - val_loss: 0.8667 - val_categorical_accuracy: 0.6783 - val_accuracy: 0.0000e+00 - 278ms/epoch - 19ms/step\n",
      "Epoch 64/200\n",
      "15/15 - 0s - loss: 0.8501 - categorical_accuracy: 0.6717 - accuracy: 0.0000e+00 - val_loss: 0.8650 - val_categorical_accuracy: 0.6783 - val_accuracy: 0.0000e+00 - 305ms/epoch - 20ms/step\n",
      "Epoch 65/200\n",
      "15/15 - 0s - loss: 0.8462 - categorical_accuracy: 0.6717 - accuracy: 0.0000e+00 - val_loss: 0.8616 - val_categorical_accuracy: 0.6783 - val_accuracy: 0.0000e+00 - 303ms/epoch - 20ms/step\n",
      "Epoch 66/200\n",
      "15/15 - 0s - loss: 0.8407 - categorical_accuracy: 0.6717 - accuracy: 0.0000e+00 - val_loss: 0.8659 - val_categorical_accuracy: 0.6783 - val_accuracy: 0.0000e+00 - 269ms/epoch - 18ms/step\n",
      "Epoch 67/200\n",
      "15/15 - 0s - loss: 0.8440 - categorical_accuracy: 0.6717 - accuracy: 0.0000e+00 - val_loss: 0.8646 - val_categorical_accuracy: 0.6783 - val_accuracy: 0.0000e+00 - 276ms/epoch - 18ms/step\n",
      "Epoch 68/200\n",
      "15/15 - 0s - loss: 0.8397 - categorical_accuracy: 0.6717 - accuracy: 0.0000e+00 - val_loss: 0.8637 - val_categorical_accuracy: 0.6783 - val_accuracy: 0.0000e+00 - 314ms/epoch - 21ms/step\n",
      "Epoch 69/200\n",
      "15/15 - 0s - loss: 0.8414 - categorical_accuracy: 0.6717 - accuracy: 0.0000e+00 - val_loss: 0.8787 - val_categorical_accuracy: 0.6783 - val_accuracy: 0.0000e+00 - 297ms/epoch - 20ms/step\n",
      "Epoch 70/200\n",
      "15/15 - 0s - loss: 0.8473 - categorical_accuracy: 0.6717 - accuracy: 0.0000e+00 - val_loss: 0.8641 - val_categorical_accuracy: 0.6783 - val_accuracy: 0.0000e+00 - 313ms/epoch - 21ms/step\n",
      "Epoch 71/200\n",
      "15/15 - 0s - loss: 0.8448 - categorical_accuracy: 0.6717 - accuracy: 0.0000e+00 - val_loss: 0.8747 - val_categorical_accuracy: 0.6783 - val_accuracy: 0.0000e+00 - 290ms/epoch - 19ms/step\n",
      "Epoch 72/200\n",
      "15/15 - 0s - loss: 0.8376 - categorical_accuracy: 0.6717 - accuracy: 0.0000e+00 - val_loss: 0.8638 - val_categorical_accuracy: 0.6783 - val_accuracy: 0.0000e+00 - 291ms/epoch - 19ms/step\n",
      "Epoch 73/200\n",
      "15/15 - 0s - loss: 0.8521 - categorical_accuracy: 0.6717 - accuracy: 0.0000e+00 - val_loss: 0.8695 - val_categorical_accuracy: 0.6783 - val_accuracy: 0.0000e+00 - 281ms/epoch - 19ms/step\n",
      "Epoch 74/200\n",
      "15/15 - 0s - loss: 0.8394 - categorical_accuracy: 0.6717 - accuracy: 0.0000e+00 - val_loss: 0.8635 - val_categorical_accuracy: 0.6783 - val_accuracy: 0.0000e+00 - 276ms/epoch - 18ms/step\n",
      "Epoch 75/200\n",
      "15/15 - 0s - loss: 0.8531 - categorical_accuracy: 0.6717 - accuracy: 0.0000e+00 - val_loss: 0.8557 - val_categorical_accuracy: 0.6783 - val_accuracy: 0.0000e+00 - 280ms/epoch - 19ms/step\n",
      "Epoch 76/200\n",
      "15/15 - 0s - loss: 0.8403 - categorical_accuracy: 0.6717 - accuracy: 0.0000e+00 - val_loss: 0.8657 - val_categorical_accuracy: 0.6783 - val_accuracy: 0.0000e+00 - 268ms/epoch - 18ms/step\n",
      "Epoch 77/200\n",
      "15/15 - 0s - loss: 0.8339 - categorical_accuracy: 0.6717 - accuracy: 0.0000e+00 - val_loss: 0.8624 - val_categorical_accuracy: 0.6783 - val_accuracy: 0.0000e+00 - 265ms/epoch - 18ms/step\n",
      "Epoch 78/200\n",
      "15/15 - 0s - loss: 0.8391 - categorical_accuracy: 0.6717 - accuracy: 0.0000e+00 - val_loss: 0.8774 - val_categorical_accuracy: 0.6783 - val_accuracy: 0.0000e+00 - 298ms/epoch - 20ms/step\n",
      "Epoch 79/200\n",
      "15/15 - 0s - loss: 0.8353 - categorical_accuracy: 0.6717 - accuracy: 0.0000e+00 - val_loss: 0.8577 - val_categorical_accuracy: 0.6783 - val_accuracy: 0.0000e+00 - 296ms/epoch - 20ms/step\n",
      "Epoch 80/200\n",
      "15/15 - 0s - loss: 0.8324 - categorical_accuracy: 0.6804 - accuracy: 0.0000e+00 - val_loss: 0.8722 - val_categorical_accuracy: 0.6713 - val_accuracy: 0.0000e+00 - 271ms/epoch - 18ms/step\n",
      "Epoch 81/200\n",
      "15/15 - 0s - loss: 0.8390 - categorical_accuracy: 0.6739 - accuracy: 0.0000e+00 - val_loss: 0.8384 - val_categorical_accuracy: 0.6783 - val_accuracy: 0.0000e+00 - 409ms/epoch - 27ms/step\n",
      "Epoch 82/200\n",
      "15/15 - 0s - loss: 0.8597 - categorical_accuracy: 0.6717 - accuracy: 0.0000e+00 - val_loss: 0.8856 - val_categorical_accuracy: 0.6783 - val_accuracy: 0.0000e+00 - 309ms/epoch - 21ms/step\n",
      "Epoch 83/200\n",
      "15/15 - 0s - loss: 0.8540 - categorical_accuracy: 0.6717 - accuracy: 0.0000e+00 - val_loss: 0.8663 - val_categorical_accuracy: 0.6783 - val_accuracy: 0.0000e+00 - 273ms/epoch - 18ms/step\n"
     ]
    },
    {
     "name": "stdout",
     "output_type": "stream",
     "text": [
      "Epoch 84/200\n",
      "15/15 - 0s - loss: 0.8509 - categorical_accuracy: 0.6717 - accuracy: 0.0000e+00 - val_loss: 0.8658 - val_categorical_accuracy: 0.6783 - val_accuracy: 0.0000e+00 - 280ms/epoch - 19ms/step\n",
      "Epoch 85/200\n",
      "15/15 - 0s - loss: 0.8417 - categorical_accuracy: 0.6739 - accuracy: 0.0000e+00 - val_loss: 0.8713 - val_categorical_accuracy: 0.6783 - val_accuracy: 0.0000e+00 - 318ms/epoch - 21ms/step\n",
      "Epoch 86/200\n",
      "15/15 - 0s - loss: 0.8391 - categorical_accuracy: 0.6717 - accuracy: 0.0000e+00 - val_loss: 0.8585 - val_categorical_accuracy: 0.6783 - val_accuracy: 0.0000e+00 - 330ms/epoch - 22ms/step\n",
      "Epoch 87/200\n",
      "15/15 - 0s - loss: 0.8410 - categorical_accuracy: 0.6717 - accuracy: 0.0000e+00 - val_loss: 0.8642 - val_categorical_accuracy: 0.6783 - val_accuracy: 0.0000e+00 - 271ms/epoch - 18ms/step\n",
      "Epoch 88/200\n",
      "15/15 - 0s - loss: 0.8534 - categorical_accuracy: 0.6696 - accuracy: 0.0000e+00 - val_loss: 0.8581 - val_categorical_accuracy: 0.6783 - val_accuracy: 0.0000e+00 - 281ms/epoch - 19ms/step\n",
      "Epoch 89/200\n",
      "15/15 - 0s - loss: 0.8550 - categorical_accuracy: 0.6717 - accuracy: 0.0000e+00 - val_loss: 0.8652 - val_categorical_accuracy: 0.6783 - val_accuracy: 0.0000e+00 - 299ms/epoch - 20ms/step\n",
      "Epoch 90/200\n",
      "15/15 - 0s - loss: 0.8426 - categorical_accuracy: 0.6717 - accuracy: 0.0000e+00 - val_loss: 0.8693 - val_categorical_accuracy: 0.6783 - val_accuracy: 0.0000e+00 - 282ms/epoch - 19ms/step\n",
      "Epoch 91/200\n",
      "15/15 - 0s - loss: 0.8375 - categorical_accuracy: 0.6717 - accuracy: 0.0000e+00 - val_loss: 0.8659 - val_categorical_accuracy: 0.6783 - val_accuracy: 0.0000e+00 - 296ms/epoch - 20ms/step\n",
      "Epoch 92/200\n",
      "15/15 - 0s - loss: 0.8352 - categorical_accuracy: 0.6761 - accuracy: 0.0000e+00 - val_loss: 0.9059 - val_categorical_accuracy: 0.6783 - val_accuracy: 0.0000e+00 - 306ms/epoch - 20ms/step\n",
      "Epoch 93/200\n",
      "15/15 - 0s - loss: 0.8490 - categorical_accuracy: 0.6739 - accuracy: 0.0000e+00 - val_loss: 0.8698 - val_categorical_accuracy: 0.6783 - val_accuracy: 0.0000e+00 - 270ms/epoch - 18ms/step\n",
      "Epoch 94/200\n",
      "15/15 - 0s - loss: 0.8448 - categorical_accuracy: 0.6717 - accuracy: 0.0000e+00 - val_loss: 0.8662 - val_categorical_accuracy: 0.6783 - val_accuracy: 0.0000e+00 - 291ms/epoch - 19ms/step\n",
      "Epoch 95/200\n",
      "15/15 - 0s - loss: 0.8453 - categorical_accuracy: 0.6696 - accuracy: 0.0000e+00 - val_loss: 0.8752 - val_categorical_accuracy: 0.6783 - val_accuracy: 0.0000e+00 - 276ms/epoch - 18ms/step\n",
      "Epoch 96/200\n",
      "15/15 - 0s - loss: 0.8403 - categorical_accuracy: 0.6783 - accuracy: 0.0000e+00 - val_loss: 0.8607 - val_categorical_accuracy: 0.6783 - val_accuracy: 0.0000e+00 - 274ms/epoch - 18ms/step\n",
      "Epoch 97/200\n",
      "15/15 - 0s - loss: 0.8366 - categorical_accuracy: 0.6717 - accuracy: 0.0000e+00 - val_loss: 0.8737 - val_categorical_accuracy: 0.6783 - val_accuracy: 0.0000e+00 - 268ms/epoch - 18ms/step\n",
      "Epoch 98/200\n",
      "15/15 - 0s - loss: 0.8385 - categorical_accuracy: 0.6739 - accuracy: 0.0000e+00 - val_loss: 0.8629 - val_categorical_accuracy: 0.6783 - val_accuracy: 0.0000e+00 - 273ms/epoch - 18ms/step\n",
      "Epoch 99/200\n",
      "15/15 - 0s - loss: 0.8301 - categorical_accuracy: 0.6739 - accuracy: 0.0000e+00 - val_loss: 0.8701 - val_categorical_accuracy: 0.6783 - val_accuracy: 0.0000e+00 - 287ms/epoch - 19ms/step\n",
      "Epoch 100/200\n",
      "15/15 - 0s - loss: 0.8322 - categorical_accuracy: 0.6674 - accuracy: 0.0000e+00 - val_loss: 0.8520 - val_categorical_accuracy: 0.6783 - val_accuracy: 0.0000e+00 - 282ms/epoch - 19ms/step\n",
      "Epoch 101/200\n",
      "15/15 - 0s - loss: 0.8223 - categorical_accuracy: 0.6761 - accuracy: 0.0000e+00 - val_loss: 0.8523 - val_categorical_accuracy: 0.6783 - val_accuracy: 0.0000e+00 - 282ms/epoch - 19ms/step\n",
      "Epoch 102/200\n",
      "15/15 - 0s - loss: 0.8414 - categorical_accuracy: 0.6739 - accuracy: 0.0000e+00 - val_loss: 0.8528 - val_categorical_accuracy: 0.6783 - val_accuracy: 0.0000e+00 - 275ms/epoch - 18ms/step\n",
      "Epoch 103/200\n",
      "15/15 - 0s - loss: 0.8225 - categorical_accuracy: 0.6739 - accuracy: 0.0000e+00 - val_loss: 0.8757 - val_categorical_accuracy: 0.6783 - val_accuracy: 0.0000e+00 - 278ms/epoch - 19ms/step\n",
      "Epoch 104/200\n",
      "15/15 - 0s - loss: 0.8421 - categorical_accuracy: 0.6761 - accuracy: 0.0000e+00 - val_loss: 0.8709 - val_categorical_accuracy: 0.6783 - val_accuracy: 0.0000e+00 - 260ms/epoch - 17ms/step\n",
      "Epoch 105/200\n",
      "15/15 - 0s - loss: 0.8357 - categorical_accuracy: 0.6717 - accuracy: 0.0000e+00 - val_loss: 0.8607 - val_categorical_accuracy: 0.6783 - val_accuracy: 0.0000e+00 - 270ms/epoch - 18ms/step\n",
      "Epoch 106/200\n",
      "15/15 - 0s - loss: 0.8340 - categorical_accuracy: 0.6717 - accuracy: 0.0000e+00 - val_loss: 0.8628 - val_categorical_accuracy: 0.6783 - val_accuracy: 0.0000e+00 - 273ms/epoch - 18ms/step\n",
      "Epoch 107/200\n",
      "15/15 - 0s - loss: 0.8317 - categorical_accuracy: 0.6739 - accuracy: 0.0000e+00 - val_loss: 0.8587 - val_categorical_accuracy: 0.6783 - val_accuracy: 0.0000e+00 - 271ms/epoch - 18ms/step\n",
      "Epoch 108/200\n",
      "15/15 - 0s - loss: 0.8275 - categorical_accuracy: 0.6848 - accuracy: 0.0000e+00 - val_loss: 0.8703 - val_categorical_accuracy: 0.6783 - val_accuracy: 0.0000e+00 - 282ms/epoch - 19ms/step\n",
      "Epoch 109/200\n",
      "15/15 - 0s - loss: 0.8374 - categorical_accuracy: 0.6761 - accuracy: 0.0000e+00 - val_loss: 0.8510 - val_categorical_accuracy: 0.6783 - val_accuracy: 0.0000e+00 - 283ms/epoch - 19ms/step\n",
      "Epoch 110/200\n",
      "15/15 - 0s - loss: 0.8265 - categorical_accuracy: 0.6739 - accuracy: 0.0000e+00 - val_loss: 0.8918 - val_categorical_accuracy: 0.6783 - val_accuracy: 0.0000e+00 - 282ms/epoch - 19ms/step\n",
      "Epoch 111/200\n",
      "15/15 - 0s - loss: 0.8185 - categorical_accuracy: 0.6783 - accuracy: 0.0000e+00 - val_loss: 0.8492 - val_categorical_accuracy: 0.6783 - val_accuracy: 0.0000e+00 - 268ms/epoch - 18ms/step\n",
      "Epoch 112/200\n",
      "15/15 - 0s - loss: 0.8295 - categorical_accuracy: 0.6826 - accuracy: 0.0000e+00 - val_loss: 0.8456 - val_categorical_accuracy: 0.6783 - val_accuracy: 0.0000e+00 - 277ms/epoch - 18ms/step\n",
      "Epoch 113/200\n",
      "15/15 - 0s - loss: 0.8409 - categorical_accuracy: 0.6739 - accuracy: 0.0000e+00 - val_loss: 0.8792 - val_categorical_accuracy: 0.6783 - val_accuracy: 0.0000e+00 - 271ms/epoch - 18ms/step\n",
      "Epoch 114/200\n",
      "15/15 - 0s - loss: 0.8266 - categorical_accuracy: 0.6826 - accuracy: 0.0000e+00 - val_loss: 0.8705 - val_categorical_accuracy: 0.6783 - val_accuracy: 0.0000e+00 - 285ms/epoch - 19ms/step\n",
      "Epoch 115/200\n",
      "15/15 - 0s - loss: 0.8422 - categorical_accuracy: 0.6717 - accuracy: 0.0000e+00 - val_loss: 0.8467 - val_categorical_accuracy: 0.6783 - val_accuracy: 0.0000e+00 - 260ms/epoch - 17ms/step\n",
      "Epoch 116/200\n",
      "15/15 - 0s - loss: 0.8588 - categorical_accuracy: 0.6674 - accuracy: 0.0000e+00 - val_loss: 0.8650 - val_categorical_accuracy: 0.6783 - val_accuracy: 0.0000e+00 - 270ms/epoch - 18ms/step\n",
      "Epoch 117/200\n",
      "15/15 - 0s - loss: 0.8276 - categorical_accuracy: 0.6717 - accuracy: 0.0000e+00 - val_loss: 0.8602 - val_categorical_accuracy: 0.6783 - val_accuracy: 0.0000e+00 - 279ms/epoch - 19ms/step\n",
      "Epoch 118/200\n",
      "15/15 - 0s - loss: 0.8226 - categorical_accuracy: 0.6739 - accuracy: 0.0000e+00 - val_loss: 0.8626 - val_categorical_accuracy: 0.6783 - val_accuracy: 0.0000e+00 - 260ms/epoch - 17ms/step\n",
      "Epoch 119/200\n",
      "15/15 - 0s - loss: 0.8186 - categorical_accuracy: 0.6652 - accuracy: 0.0000e+00 - val_loss: 0.8797 - val_categorical_accuracy: 0.6783 - val_accuracy: 0.0000e+00 - 263ms/epoch - 18ms/step\n",
      "Epoch 120/200\n",
      "15/15 - 0s - loss: 0.8318 - categorical_accuracy: 0.6739 - accuracy: 0.0000e+00 - val_loss: 0.8792 - val_categorical_accuracy: 0.6783 - val_accuracy: 0.0000e+00 - 268ms/epoch - 18ms/step\n",
      "Epoch 121/200\n",
      "15/15 - 0s - loss: 0.8391 - categorical_accuracy: 0.6717 - accuracy: 0.0000e+00 - val_loss: 0.8810 - val_categorical_accuracy: 0.6783 - val_accuracy: 0.0000e+00 - 281ms/epoch - 19ms/step\n",
      "Epoch 122/200\n",
      "15/15 - 0s - loss: 0.8341 - categorical_accuracy: 0.6717 - accuracy: 0.0000e+00 - val_loss: 0.8449 - val_categorical_accuracy: 0.6783 - val_accuracy: 0.0000e+00 - 257ms/epoch - 17ms/step\n",
      "Epoch 123/200\n",
      "15/15 - 0s - loss: 0.8086 - categorical_accuracy: 0.6783 - accuracy: 0.0000e+00 - val_loss: 0.8854 - val_categorical_accuracy: 0.6503 - val_accuracy: 0.0000e+00 - 267ms/epoch - 18ms/step\n",
      "Epoch 124/200\n",
      "15/15 - 0s - loss: 0.8338 - categorical_accuracy: 0.6761 - accuracy: 0.0000e+00 - val_loss: 0.8651 - val_categorical_accuracy: 0.6783 - val_accuracy: 0.0000e+00 - 285ms/epoch - 19ms/step\n"
     ]
    },
    {
     "name": "stdout",
     "output_type": "stream",
     "text": [
      "Epoch 125/200\n",
      "15/15 - 0s - loss: 0.8199 - categorical_accuracy: 0.6739 - accuracy: 0.0000e+00 - val_loss: 0.8680 - val_categorical_accuracy: 0.6783 - val_accuracy: 0.0000e+00 - 274ms/epoch - 18ms/step\n",
      "Epoch 126/200\n",
      "15/15 - 0s - loss: 0.8158 - categorical_accuracy: 0.6761 - accuracy: 0.0000e+00 - val_loss: 0.8589 - val_categorical_accuracy: 0.6783 - val_accuracy: 0.0000e+00 - 255ms/epoch - 17ms/step\n",
      "Epoch 127/200\n",
      "15/15 - 0s - loss: 0.8214 - categorical_accuracy: 0.6761 - accuracy: 0.0000e+00 - val_loss: 0.8600 - val_categorical_accuracy: 0.6783 - val_accuracy: 0.0000e+00 - 291ms/epoch - 19ms/step\n",
      "Epoch 128/200\n",
      "15/15 - 0s - loss: 0.8350 - categorical_accuracy: 0.6652 - accuracy: 0.0000e+00 - val_loss: 0.8710 - val_categorical_accuracy: 0.6783 - val_accuracy: 0.0000e+00 - 289ms/epoch - 19ms/step\n",
      "Epoch 129/200\n",
      "15/15 - 0s - loss: 0.8175 - categorical_accuracy: 0.6761 - accuracy: 0.0000e+00 - val_loss: 0.8737 - val_categorical_accuracy: 0.6783 - val_accuracy: 0.0000e+00 - 257ms/epoch - 17ms/step\n",
      "Epoch 130/200\n",
      "15/15 - 0s - loss: 0.8181 - categorical_accuracy: 0.6783 - accuracy: 0.0000e+00 - val_loss: 0.8676 - val_categorical_accuracy: 0.6783 - val_accuracy: 0.0000e+00 - 298ms/epoch - 20ms/step\n",
      "Epoch 131/200\n",
      "15/15 - 0s - loss: 0.8881 - categorical_accuracy: 0.6652 - accuracy: 0.0011 - val_loss: 0.9041 - val_categorical_accuracy: 0.6783 - val_accuracy: 0.0000e+00 - 270ms/epoch - 18ms/step\n",
      "Epoch 132/200\n",
      "15/15 - 0s - loss: 0.8166 - categorical_accuracy: 0.6761 - accuracy: 0.0000e+00 - val_loss: 0.8533 - val_categorical_accuracy: 0.6783 - val_accuracy: 0.0000e+00 - 309ms/epoch - 21ms/step\n",
      "Epoch 133/200\n",
      "15/15 - 0s - loss: 0.8173 - categorical_accuracy: 0.6783 - accuracy: 0.0000e+00 - val_loss: 0.8520 - val_categorical_accuracy: 0.6783 - val_accuracy: 0.0000e+00 - 263ms/epoch - 18ms/step\n",
      "Epoch 134/200\n",
      "15/15 - 0s - loss: 0.9154 - categorical_accuracy: 0.6783 - accuracy: 0.0011 - val_loss: 0.8626 - val_categorical_accuracy: 0.6783 - val_accuracy: 0.0000e+00 - 266ms/epoch - 18ms/step\n",
      "Epoch 135/200\n",
      "15/15 - 0s - loss: 0.8321 - categorical_accuracy: 0.6717 - accuracy: 0.0000e+00 - val_loss: 0.8717 - val_categorical_accuracy: 0.6783 - val_accuracy: 0.0000e+00 - 288ms/epoch - 19ms/step\n",
      "Epoch 136/200\n",
      "15/15 - 0s - loss: 0.8130 - categorical_accuracy: 0.6848 - accuracy: 0.0000e+00 - val_loss: 0.8924 - val_categorical_accuracy: 0.6783 - val_accuracy: 0.0000e+00 - 257ms/epoch - 17ms/step\n",
      "Epoch 137/200\n",
      "15/15 - 0s - loss: 0.8105 - categorical_accuracy: 0.6870 - accuracy: 0.0000e+00 - val_loss: 0.8608 - val_categorical_accuracy: 0.6783 - val_accuracy: 0.0000e+00 - 263ms/epoch - 18ms/step\n",
      "Epoch 138/200\n",
      "15/15 - 0s - loss: 0.8274 - categorical_accuracy: 0.6696 - accuracy: 0.0000e+00 - val_loss: 0.8829 - val_categorical_accuracy: 0.6783 - val_accuracy: 0.0000e+00 - 272ms/epoch - 18ms/step\n",
      "Epoch 139/200\n",
      "15/15 - 0s - loss: 0.8084 - categorical_accuracy: 0.6739 - accuracy: 0.0000e+00 - val_loss: 0.8905 - val_categorical_accuracy: 0.6783 - val_accuracy: 0.0000e+00 - 278ms/epoch - 19ms/step\n",
      "Epoch 140/200\n",
      "15/15 - 0s - loss: 0.8307 - categorical_accuracy: 0.6783 - accuracy: 0.0000e+00 - val_loss: 0.8934 - val_categorical_accuracy: 0.6783 - val_accuracy: 0.0000e+00 - 255ms/epoch - 17ms/step\n",
      "Epoch 141/200\n",
      "15/15 - 0s - loss: 0.8388 - categorical_accuracy: 0.6717 - accuracy: 0.0000e+00 - val_loss: 0.8714 - val_categorical_accuracy: 0.6783 - val_accuracy: 0.0000e+00 - 264ms/epoch - 18ms/step\n",
      "Epoch 142/200\n",
      "15/15 - 0s - loss: 0.8228 - categorical_accuracy: 0.6652 - accuracy: 0.0000e+00 - val_loss: 0.8677 - val_categorical_accuracy: 0.6783 - val_accuracy: 0.0000e+00 - 284ms/epoch - 19ms/step\n",
      "Epoch 143/200\n",
      "15/15 - 0s - loss: 0.7932 - categorical_accuracy: 0.6783 - accuracy: 0.0000e+00 - val_loss: 0.9043 - val_categorical_accuracy: 0.6783 - val_accuracy: 0.0000e+00 - 285ms/epoch - 19ms/step\n",
      "Epoch 144/200\n",
      "15/15 - 0s - loss: 0.7967 - categorical_accuracy: 0.6783 - accuracy: 0.0000e+00 - val_loss: 0.8837 - val_categorical_accuracy: 0.6783 - val_accuracy: 0.0000e+00 - 265ms/epoch - 18ms/step\n",
      "Epoch 145/200\n",
      "15/15 - 0s - loss: 0.7885 - categorical_accuracy: 0.6739 - accuracy: 0.0000e+00 - val_loss: 0.8943 - val_categorical_accuracy: 0.6643 - val_accuracy: 0.0000e+00 - 278ms/epoch - 19ms/step\n",
      "Epoch 146/200\n",
      "15/15 - 0s - loss: 0.8056 - categorical_accuracy: 0.6978 - accuracy: 0.0000e+00 - val_loss: 0.8648 - val_categorical_accuracy: 0.6783 - val_accuracy: 0.0000e+00 - 281ms/epoch - 19ms/step\n",
      "Epoch 147/200\n",
      "15/15 - 0s - loss: 0.7997 - categorical_accuracy: 0.6826 - accuracy: 0.0000e+00 - val_loss: 1.0246 - val_categorical_accuracy: 0.6154 - val_accuracy: 0.0017 - 263ms/epoch - 18ms/step\n",
      "Epoch 148/200\n",
      "15/15 - 0s - loss: 0.7958 - categorical_accuracy: 0.6696 - accuracy: 5.4348e-04 - val_loss: 0.8898 - val_categorical_accuracy: 0.6713 - val_accuracy: 0.0000e+00 - 262ms/epoch - 17ms/step\n",
      "Epoch 149/200\n",
      "15/15 - 0s - loss: 0.8025 - categorical_accuracy: 0.6717 - accuracy: 0.0000e+00 - val_loss: 0.9013 - val_categorical_accuracy: 0.6783 - val_accuracy: 0.0000e+00 - 276ms/epoch - 18ms/step\n",
      "Epoch 150/200\n",
      "15/15 - 0s - loss: 0.8020 - categorical_accuracy: 0.6739 - accuracy: 0.0000e+00 - val_loss: 0.9063 - val_categorical_accuracy: 0.6713 - val_accuracy: 0.0000e+00 - 288ms/epoch - 19ms/step\n",
      "Epoch 151/200\n",
      "15/15 - 0s - loss: 0.7910 - categorical_accuracy: 0.6804 - accuracy: 0.0000e+00 - val_loss: 0.8866 - val_categorical_accuracy: 0.6783 - val_accuracy: 0.0000e+00 - 260ms/epoch - 17ms/step\n",
      "Epoch 152/200\n",
      "15/15 - 0s - loss: 0.8084 - categorical_accuracy: 0.6783 - accuracy: 0.0000e+00 - val_loss: 0.8808 - val_categorical_accuracy: 0.6783 - val_accuracy: 0.0000e+00 - 271ms/epoch - 18ms/step\n",
      "Epoch 153/200\n",
      "15/15 - 0s - loss: 0.8027 - categorical_accuracy: 0.6826 - accuracy: 0.0000e+00 - val_loss: 0.8582 - val_categorical_accuracy: 0.6783 - val_accuracy: 0.0000e+00 - 269ms/epoch - 18ms/step\n",
      "Epoch 154/200\n",
      "15/15 - 0s - loss: 0.7916 - categorical_accuracy: 0.6761 - accuracy: 0.0000e+00 - val_loss: 0.9170 - val_categorical_accuracy: 0.6783 - val_accuracy: 0.0000e+00 - 279ms/epoch - 19ms/step\n",
      "Epoch 155/200\n",
      "15/15 - 0s - loss: 0.8103 - categorical_accuracy: 0.6783 - accuracy: 0.0000e+00 - val_loss: 0.8791 - val_categorical_accuracy: 0.6713 - val_accuracy: 0.0000e+00 - 258ms/epoch - 17ms/step\n",
      "Epoch 156/200\n",
      "15/15 - 0s - loss: 0.7950 - categorical_accuracy: 0.6870 - accuracy: 0.0000e+00 - val_loss: 0.8726 - val_categorical_accuracy: 0.6783 - val_accuracy: 0.0000e+00 - 271ms/epoch - 18ms/step\n",
      "Epoch 157/200\n",
      "15/15 - 0s - loss: 0.8112 - categorical_accuracy: 0.6739 - accuracy: 0.0000e+00 - val_loss: 0.8888 - val_categorical_accuracy: 0.6783 - val_accuracy: 0.0000e+00 - 289ms/epoch - 19ms/step\n",
      "Epoch 158/200\n",
      "15/15 - 0s - loss: 0.7890 - categorical_accuracy: 0.6913 - accuracy: 0.0000e+00 - val_loss: 0.9071 - val_categorical_accuracy: 0.6643 - val_accuracy: 0.0000e+00 - 258ms/epoch - 17ms/step\n",
      "Epoch 159/200\n",
      "15/15 - 0s - loss: 0.7921 - categorical_accuracy: 0.6783 - accuracy: 0.0000e+00 - val_loss: 0.9066 - val_categorical_accuracy: 0.6783 - val_accuracy: 0.0000e+00 - 263ms/epoch - 18ms/step\n",
      "Epoch 160/200\n",
      "15/15 - 0s - loss: 0.7974 - categorical_accuracy: 0.6739 - accuracy: 0.0000e+00 - val_loss: 0.9161 - val_categorical_accuracy: 0.6783 - val_accuracy: 0.0000e+00 - 270ms/epoch - 18ms/step\n",
      "Epoch 161/200\n",
      "15/15 - 0s - loss: 0.7895 - categorical_accuracy: 0.6717 - accuracy: 0.0000e+00 - val_loss: 0.9236 - val_categorical_accuracy: 0.6643 - val_accuracy: 0.0000e+00 - 279ms/epoch - 19ms/step\n",
      "Epoch 162/200\n",
      "15/15 - 0s - loss: 0.7753 - categorical_accuracy: 0.6826 - accuracy: 5.4348e-04 - val_loss: 0.9276 - val_categorical_accuracy: 0.6573 - val_accuracy: 0.0000e+00 - 256ms/epoch - 17ms/step\n",
      "Epoch 163/200\n",
      "15/15 - 0s - loss: 0.8014 - categorical_accuracy: 0.6804 - accuracy: 0.0000e+00 - val_loss: 0.9003 - val_categorical_accuracy: 0.6573 - val_accuracy: 0.0000e+00 - 265ms/epoch - 18ms/step\n",
      "Epoch 164/200\n",
      "15/15 - 0s - loss: 0.7934 - categorical_accuracy: 0.6783 - accuracy: 0.0022 - val_loss: 0.9287 - val_categorical_accuracy: 0.6783 - val_accuracy: 0.0000e+00 - 271ms/epoch - 18ms/step\n",
      "Epoch 165/200\n",
      "15/15 - 0s - loss: 0.7658 - categorical_accuracy: 0.6978 - accuracy: 0.0000e+00 - val_loss: 0.9592 - val_categorical_accuracy: 0.6643 - val_accuracy: 0.0000e+00 - 276ms/epoch - 18ms/step\n"
     ]
    },
    {
     "name": "stdout",
     "output_type": "stream",
     "text": [
      "Epoch 166/200\n",
      "15/15 - 0s - loss: 0.7892 - categorical_accuracy: 0.6891 - accuracy: 0.0000e+00 - val_loss: 0.8832 - val_categorical_accuracy: 0.6783 - val_accuracy: 0.0000e+00 - 259ms/epoch - 17ms/step\n",
      "Epoch 167/200\n",
      "15/15 - 0s - loss: 0.7677 - categorical_accuracy: 0.6935 - accuracy: 0.0000e+00 - val_loss: 0.9242 - val_categorical_accuracy: 0.6783 - val_accuracy: 0.0000e+00 - 269ms/epoch - 18ms/step\n",
      "Epoch 168/200\n",
      "15/15 - 0s - loss: 0.7753 - categorical_accuracy: 0.6826 - accuracy: 0.0000e+00 - val_loss: 1.0532 - val_categorical_accuracy: 0.6783 - val_accuracy: 0.0017 - 277ms/epoch - 18ms/step\n",
      "Epoch 169/200\n",
      "15/15 - 0s - loss: 0.7927 - categorical_accuracy: 0.6891 - accuracy: 0.0000e+00 - val_loss: 0.9743 - val_categorical_accuracy: 0.6014 - val_accuracy: 0.0000e+00 - 261ms/epoch - 17ms/step\n",
      "Epoch 170/200\n",
      "15/15 - 0s - loss: 0.7846 - categorical_accuracy: 0.6761 - accuracy: 0.0000e+00 - val_loss: 0.8859 - val_categorical_accuracy: 0.6783 - val_accuracy: 0.0000e+00 - 258ms/epoch - 17ms/step\n",
      "Epoch 171/200\n",
      "15/15 - 0s - loss: 0.7569 - categorical_accuracy: 0.6870 - accuracy: 0.0000e+00 - val_loss: 0.8891 - val_categorical_accuracy: 0.6783 - val_accuracy: 0.0000e+00 - 270ms/epoch - 18ms/step\n",
      "Epoch 172/200\n",
      "15/15 - 0s - loss: 0.7757 - categorical_accuracy: 0.6891 - accuracy: 0.0000e+00 - val_loss: 0.9295 - val_categorical_accuracy: 0.6434 - val_accuracy: 0.0000e+00 - 287ms/epoch - 19ms/step\n",
      "Epoch 173/200\n",
      "15/15 - 0s - loss: 0.7558 - categorical_accuracy: 0.6848 - accuracy: 0.0000e+00 - val_loss: 0.9516 - val_categorical_accuracy: 0.6503 - val_accuracy: 0.0000e+00 - 259ms/epoch - 17ms/step\n",
      "Epoch 174/200\n",
      "15/15 - 0s - loss: 0.7407 - categorical_accuracy: 0.7109 - accuracy: 0.0000e+00 - val_loss: 0.9438 - val_categorical_accuracy: 0.6643 - val_accuracy: 0.0000e+00 - 269ms/epoch - 18ms/step\n",
      "Epoch 175/200\n",
      "15/15 - 0s - loss: 0.7728 - categorical_accuracy: 0.6870 - accuracy: 0.0000e+00 - val_loss: 0.9358 - val_categorical_accuracy: 0.6713 - val_accuracy: 0.0000e+00 - 269ms/epoch - 18ms/step\n",
      "Epoch 176/200\n",
      "15/15 - 0s - loss: 0.7462 - categorical_accuracy: 0.6804 - accuracy: 0.0000e+00 - val_loss: 0.9849 - val_categorical_accuracy: 0.6434 - val_accuracy: 0.0000e+00 - 278ms/epoch - 19ms/step\n",
      "Epoch 177/200\n",
      "15/15 - 0s - loss: 0.7448 - categorical_accuracy: 0.6848 - accuracy: 0.0000e+00 - val_loss: 0.9345 - val_categorical_accuracy: 0.6434 - val_accuracy: 0.0000e+00 - 260ms/epoch - 17ms/step\n",
      "Epoch 178/200\n",
      "15/15 - 0s - loss: 0.9195 - categorical_accuracy: 0.7000 - accuracy: 0.0027 - val_loss: 0.9634 - val_categorical_accuracy: 0.6154 - val_accuracy: 0.0000e+00 - 270ms/epoch - 18ms/step\n",
      "Epoch 179/200\n",
      "15/15 - 0s - loss: 0.8732 - categorical_accuracy: 0.6652 - accuracy: 0.0022 - val_loss: 0.9050 - val_categorical_accuracy: 0.6434 - val_accuracy: 0.0000e+00 - 285ms/epoch - 19ms/step\n",
      "Epoch 180/200\n",
      "15/15 - 0s - loss: 0.8004 - categorical_accuracy: 0.6761 - accuracy: 0.0000e+00 - val_loss: 0.9485 - val_categorical_accuracy: 0.6643 - val_accuracy: 0.0000e+00 - 263ms/epoch - 18ms/step\n",
      "Epoch 181/200\n",
      "15/15 - 0s - loss: 0.7686 - categorical_accuracy: 0.6935 - accuracy: 0.0000e+00 - val_loss: 0.9229 - val_categorical_accuracy: 0.6364 - val_accuracy: 0.0000e+00 - 267ms/epoch - 18ms/step\n",
      "Epoch 182/200\n",
      "15/15 - 0s - loss: 0.7613 - categorical_accuracy: 0.7043 - accuracy: 0.0000e+00 - val_loss: 0.9074 - val_categorical_accuracy: 0.6503 - val_accuracy: 0.0000e+00 - 270ms/epoch - 18ms/step\n",
      "Epoch 183/200\n",
      "15/15 - 0s - loss: 0.7429 - categorical_accuracy: 0.6913 - accuracy: 0.0000e+00 - val_loss: 0.9518 - val_categorical_accuracy: 0.6434 - val_accuracy: 0.0000e+00 - 288ms/epoch - 19ms/step\n",
      "Epoch 184/200\n",
      "15/15 - 0s - loss: 0.7297 - categorical_accuracy: 0.6913 - accuracy: 0.0000e+00 - val_loss: 0.9535 - val_categorical_accuracy: 0.6503 - val_accuracy: 0.0000e+00 - 254ms/epoch - 17ms/step\n",
      "Epoch 185/200\n",
      "15/15 - 0s - loss: 0.7418 - categorical_accuracy: 0.7000 - accuracy: 0.0000e+00 - val_loss: 0.9165 - val_categorical_accuracy: 0.6573 - val_accuracy: 0.0000e+00 - 269ms/epoch - 18ms/step\n",
      "Epoch 186/200\n",
      "15/15 - 0s - loss: 0.7677 - categorical_accuracy: 0.6935 - accuracy: 0.0000e+00 - val_loss: 1.0505 - val_categorical_accuracy: 0.6294 - val_accuracy: 0.0000e+00 - 297ms/epoch - 20ms/step\n",
      "Epoch 187/200\n",
      "15/15 - 0s - loss: 0.7613 - categorical_accuracy: 0.6891 - accuracy: 0.0000e+00 - val_loss: 0.8761 - val_categorical_accuracy: 0.6923 - val_accuracy: 0.0000e+00 - 276ms/epoch - 18ms/step\n",
      "Epoch 188/200\n",
      "15/15 - 0s - loss: 0.7182 - categorical_accuracy: 0.7000 - accuracy: 0.0000e+00 - val_loss: 0.9406 - val_categorical_accuracy: 0.6713 - val_accuracy: 0.0000e+00 - 263ms/epoch - 18ms/step\n",
      "Epoch 189/200\n",
      "15/15 - 0s - loss: 0.7151 - categorical_accuracy: 0.7022 - accuracy: 0.0000e+00 - val_loss: 1.0354 - val_categorical_accuracy: 0.6434 - val_accuracy: 0.0000e+00 - 270ms/epoch - 18ms/step\n",
      "Epoch 190/200\n",
      "15/15 - 0s - loss: 0.7227 - categorical_accuracy: 0.7022 - accuracy: 5.4348e-04 - val_loss: 1.0022 - val_categorical_accuracy: 0.6643 - val_accuracy: 0.0000e+00 - 285ms/epoch - 19ms/step\n",
      "Epoch 191/200\n",
      "15/15 - 0s - loss: 0.7405 - categorical_accuracy: 0.6978 - accuracy: 0.0011 - val_loss: 0.9912 - val_categorical_accuracy: 0.6713 - val_accuracy: 0.0000e+00 - 259ms/epoch - 17ms/step\n",
      "Epoch 192/200\n",
      "15/15 - 0s - loss: 0.7585 - categorical_accuracy: 0.6891 - accuracy: 0.0000e+00 - val_loss: 0.9392 - val_categorical_accuracy: 0.6713 - val_accuracy: 0.0000e+00 - 266ms/epoch - 18ms/step\n",
      "Epoch 193/200\n",
      "15/15 - 0s - loss: 0.7394 - categorical_accuracy: 0.7022 - accuracy: 5.4348e-04 - val_loss: 0.9521 - val_categorical_accuracy: 0.6713 - val_accuracy: 0.0000e+00 - 272ms/epoch - 18ms/step\n",
      "Epoch 194/200\n",
      "15/15 - 0s - loss: 0.7267 - categorical_accuracy: 0.7087 - accuracy: 0.0022 - val_loss: 0.9875 - val_categorical_accuracy: 0.6783 - val_accuracy: 0.0035 - 277ms/epoch - 18ms/step\n",
      "Epoch 195/200\n",
      "15/15 - 0s - loss: 0.7355 - categorical_accuracy: 0.7022 - accuracy: 0.0033 - val_loss: 0.9664 - val_categorical_accuracy: 0.6573 - val_accuracy: 0.0000e+00 - 258ms/epoch - 17ms/step\n",
      "Epoch 196/200\n",
      "15/15 - 0s - loss: 0.6751 - categorical_accuracy: 0.7065 - accuracy: 0.0000e+00 - val_loss: 1.0201 - val_categorical_accuracy: 0.6364 - val_accuracy: 0.0000e+00 - 270ms/epoch - 18ms/step\n",
      "Epoch 197/200\n",
      "15/15 - 0s - loss: 0.6799 - categorical_accuracy: 0.7261 - accuracy: 5.4348e-04 - val_loss: 0.9596 - val_categorical_accuracy: 0.6503 - val_accuracy: 0.0000e+00 - 270ms/epoch - 18ms/step\n",
      "Epoch 198/200\n",
      "15/15 - 0s - loss: 0.7109 - categorical_accuracy: 0.7022 - accuracy: 5.4348e-04 - val_loss: 0.9507 - val_categorical_accuracy: 0.6573 - val_accuracy: 0.0000e+00 - 277ms/epoch - 18ms/step\n",
      "Epoch 199/200\n",
      "15/15 - 0s - loss: 0.7298 - categorical_accuracy: 0.7000 - accuracy: 0.0000e+00 - val_loss: 0.9341 - val_categorical_accuracy: 0.6713 - val_accuracy: 0.0000e+00 - 258ms/epoch - 17ms/step\n",
      "Epoch 200/200\n",
      "15/15 - 0s - loss: 0.7094 - categorical_accuracy: 0.7065 - accuracy: 0.0011 - val_loss: 1.0295 - val_categorical_accuracy: 0.6643 - val_accuracy: 0.0000e+00 - 272ms/epoch - 18ms/step\n"
     ]
    }
   ],
   "source": [
    "model = Sequential() \n",
    "model.add(Dropout(.2, input_shape=TRAIN_ARRAY.shape[1:]))\n",
    "model.add(Conv1D(filters=64,kernel_size=(3),padding=\"same\", activation=\"relu\"))\n",
    "model.add(Conv1D(filters=64,kernel_size=(3),padding=\"same\", activation=\"relu\"))\n",
    "model.add(MaxPool1D(pool_size=(2),strides=(2),padding=\"same\"))\n",
    "model.add(Conv1D(filters=128, kernel_size=(3), padding=\"same\", activation=\"relu\"))\n",
    "model.add(Conv1D(filters=128, kernel_size=(3), padding=\"same\", activation=\"relu\"))\n",
    "model.add(MaxPool1D(pool_size=(2),strides=(2)))\n",
    "model.add(Flatten())\n",
    "model.add(Dense(units=700,activation=\"relu\"))\n",
    "model.add(Dense(units=700,activation=\"relu\"))\n",
    "model.add(Dense( units=4, activation= \"softmax\"))\n",
    "model.compile(optimizer=Adam(learning_rate=3e-3), loss=keras.losses.categorical_crossentropy, metrics=[CategoricalAccuracy(), Accuracy()])\n",
    "res = model.fit(x=TRAIN_ARRAY, y=TRAIN_LABELS_ARRAY, epochs=200, verbose=2, validation_data = (VALIDATION_ARRAY, VALIDATION_LABELS_ARRAY), callbacks=[model_checkpoint_callback])"
   ]
  },
  {
   "cell_type": "code",
   "execution_count": 275,
   "id": "e7d39852",
   "metadata": {},
   "outputs": [
    {
     "data": {
      "text/plain": [
       "<tensorflow.python.training.tracking.util.CheckpointLoadStatus at 0x23007853850>"
      ]
     },
     "execution_count": 275,
     "metadata": {},
     "output_type": "execute_result"
    }
   ],
   "source": [
    "model.load_weights(checkpoint_filepath)"
   ]
  },
  {
   "cell_type": "code",
   "execution_count": 225,
   "id": "ccbcfc3d",
   "metadata": {},
   "outputs": [],
   "source": [
    "checkpoint_filepath = './checkpoint'\n",
    "model_checkpoint_callback = tf.keras.callbacks.ModelCheckpoint(\n",
    "    filepath=checkpoint_filepath,\n",
    "    save_weights_only=True,\n",
    "    monitor='val_loss',\n",
    "    mode='min',\n",
    "    save_best_only=True)"
   ]
  },
  {
   "cell_type": "code",
   "execution_count": 171,
   "id": "f389e6c3",
   "metadata": {},
   "outputs": [
    {
     "name": "stdout",
     "output_type": "stream",
     "text": [
      "2/2 [==============================] - 0s 10ms/step - loss: 2.1922 - categorical_accuracy: 0.4407 - precision_at_recall_37: 0.3353\n"
     ]
    },
    {
     "data": {
      "text/plain": [
       "[2.1921937465667725, 0.4406779706478119, 0.33529412746429443]"
      ]
     },
     "execution_count": 171,
     "metadata": {},
     "output_type": "execute_result"
    }
   ],
   "source": [
    "model.evaluate(TEST_ARRAY, TEST_LABELS_ARRAY)"
   ]
  },
  {
   "cell_type": "code",
   "execution_count": 172,
   "id": "1a22edc8",
   "metadata": {},
   "outputs": [
    {
     "data": {
      "text/plain": [
       "array([[11,  7,  1],\n",
       "       [ 3,  8,  6],\n",
       "       [ 6, 10,  7]], dtype=int64)"
      ]
     },
     "execution_count": 172,
     "metadata": {},
     "output_type": "execute_result"
    }
   ],
   "source": [
    "from sklearn import metrics\n",
    "preds = model.predict(TEST_ARRAY)\n",
    "matrix = metrics.confusion_matrix(TEST_LABELS_ARRAY.argmax(axis=1), preds.argmax(axis=1))\n",
    "matrix"
   ]
  },
  {
   "cell_type": "code",
   "execution_count": 175,
   "id": "74c9cf53",
   "metadata": {},
   "outputs": [
    {
     "name": "stdout",
     "output_type": "stream",
     "text": [
      "2/2 [==============================] - 0s 8ms/step - loss: 1.6334 - categorical_accuracy: 0.4576 - precision_at_recall_38: 0.3857\n"
     ]
    },
    {
     "data": {
      "text/plain": [
       "[1.6334234476089478, 0.4576271176338196, 0.3857142925262451]"
      ]
     },
     "execution_count": 175,
     "metadata": {},
     "output_type": "execute_result"
    }
   ],
   "source": [
    "model.evaluate(TEST_ARRAY, TEST_LABELS_ARRAY)"
   ]
  },
  {
   "cell_type": "code",
   "execution_count": 176,
   "id": "ba22753f",
   "metadata": {},
   "outputs": [
    {
     "data": {
      "text/plain": [
       "array([[12,  0,  7],\n",
       "       [ 5,  0, 12],\n",
       "       [ 8,  0, 15]], dtype=int64)"
      ]
     },
     "execution_count": 176,
     "metadata": {},
     "output_type": "execute_result"
    }
   ],
   "source": [
    "from sklearn import metrics\n",
    "preds = model.predict(TEST_ARRAY)\n",
    "matrix = metrics.confusion_matrix(TEST_LABELS_ARRAY.argmax(axis=1), preds.argmax(axis=1))\n",
    "matrix"
   ]
  },
  {
   "cell_type": "code",
   "execution_count": 189,
   "id": "b174ee81",
   "metadata": {},
   "outputs": [
    {
     "name": "stdout",
     "output_type": "stream",
     "text": [
      "2/2 [==============================] - 0s 7ms/step - loss: 5.3337 - categorical_accuracy: 0.3051 - precision_at_recall_41: 0.3415\n"
     ]
    },
    {
     "data": {
      "text/plain": [
       "[5.333690643310547, 0.3050847351551056, 0.3414634168148041]"
      ]
     },
     "execution_count": 189,
     "metadata": {},
     "output_type": "execute_result"
    }
   ],
   "source": [
    "model.evaluate(TEST_ARRAY, TEST_LABELS_ARRAY)"
   ]
  },
  {
   "cell_type": "code",
   "execution_count": 190,
   "id": "808e74d9",
   "metadata": {},
   "outputs": [
    {
     "data": {
      "text/plain": [
       "array([[ 7,  5,  3],\n",
       "       [ 4,  7,  9],\n",
       "       [ 8, 12,  4]], dtype=int64)"
      ]
     },
     "execution_count": 190,
     "metadata": {},
     "output_type": "execute_result"
    }
   ],
   "source": [
    "from sklearn import metrics\n",
    "preds = model.predict(TEST_ARRAY)\n",
    "matrix = metrics.confusion_matrix(TEST_LABELS_ARRAY.argmax(axis=1), preds.argmax(axis=1))\n",
    "matrix"
   ]
  },
  {
   "cell_type": "code",
   "execution_count": 276,
   "id": "bd242153",
   "metadata": {},
   "outputs": [
    {
     "name": "stdout",
     "output_type": "stream",
     "text": [
      "15/15 [==============================] - 0s 6ms/step - loss: 0.8441 - categorical_accuracy: 0.6717 - accuracy: 0.0000e+00\n"
     ]
    },
    {
     "data": {
      "text/plain": [
       "[0.8441227078437805, 0.6717391014099121, 0.0]"
      ]
     },
     "execution_count": 276,
     "metadata": {},
     "output_type": "execute_result"
    }
   ],
   "source": [
    "model.evaluate(TRAIN_ARRAY, TRAIN_LABELS_ARRAY)"
   ]
  },
  {
   "cell_type": "code",
   "execution_count": 277,
   "id": "d0107b89",
   "metadata": {},
   "outputs": [
    {
     "name": "stdout",
     "output_type": "stream",
     "text": [
      "5/5 [==============================] - 0s 6ms/step - loss: 0.8384 - categorical_accuracy: 0.6783 - accuracy: 0.0000e+00\n"
     ]
    },
    {
     "data": {
      "text/plain": [
       "[0.8383516669273376, 0.6783216595649719, 0.0]"
      ]
     },
     "execution_count": 277,
     "metadata": {},
     "output_type": "execute_result"
    }
   ],
   "source": [
    "model.evaluate(VALIDATION_ARRAY, VALIDATION_LABELS_ARRAY)"
   ]
  },
  {
   "cell_type": "code",
   "execution_count": 278,
   "id": "82f7ef19",
   "metadata": {
    "scrolled": true
   },
   "outputs": [
    {
     "name": "stdout",
     "output_type": "stream",
     "text": [
      "4/4 [==============================] - 0s 6ms/step - loss: 0.8754 - categorical_accuracy: 0.6579 - accuracy: 0.0000e+00\n"
     ]
    },
    {
     "data": {
      "text/plain": [
       "[0.8754374980926514, 0.6578947305679321, 0.0]"
      ]
     },
     "execution_count": 278,
     "metadata": {},
     "output_type": "execute_result"
    }
   ],
   "source": [
    "model.evaluate(TEST_ARRAY, TEST_LABELS_ARRAY)"
   ]
  },
  {
   "cell_type": "code",
   "execution_count": 198,
   "id": "d17c251e",
   "metadata": {},
   "outputs": [
    {
     "data": {
      "text/plain": [
       "array([[69,  0,  0],\n",
       "       [ 0, 85,  0],\n",
       "       [ 0,  0, 84]], dtype=int64)"
      ]
     },
     "execution_count": 198,
     "metadata": {},
     "output_type": "execute_result"
    }
   ],
   "source": [
    "from sklearn import metrics\n",
    "preds = model.predict(TRAIN_ARRAY)\n",
    "matrix = metrics.confusion_matrix(TRAIN_LABELS_ARRAY.argmax(axis=1),\n",
    "preds.argmax(axis=1))\n",
    "matrix"
   ]
  },
  {
   "cell_type": "code",
   "execution_count": 268,
   "id": "cd4abd98",
   "metadata": {},
   "outputs": [
    {
     "data": {
      "text/plain": [
       "460"
      ]
     },
     "execution_count": 268,
     "metadata": {},
     "output_type": "execute_result"
    }
   ],
   "source": [
    "len(TRAIN_ARRAY)"
   ]
  },
  {
   "cell_type": "code",
   "execution_count": null,
   "id": "5f55a52c",
   "metadata": {},
   "outputs": [],
   "source": []
  }
 ],
 "metadata": {
  "kernelspec": {
   "display_name": "Python 3 (ipykernel)",
   "language": "python",
   "name": "python3"
  },
  "language_info": {
   "codemirror_mode": {
    "name": "ipython",
    "version": 3
   },
   "file_extension": ".py",
   "mimetype": "text/x-python",
   "name": "python",
   "nbconvert_exporter": "python",
   "pygments_lexer": "ipython3",
   "version": "3.9.7"
  }
 },
 "nbformat": 4,
 "nbformat_minor": 5
}
